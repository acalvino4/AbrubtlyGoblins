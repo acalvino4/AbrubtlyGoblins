{
 "cells": [
  {
   "cell_type": "markdown",
   "metadata": {},
   "source": [
    "# Introduction\n",
    "\n",
    "Opening your comic book store, the Sorcery Society, has been a lifelong dream come true. You quickly diversified your shop offerings to include miniatures, plush toys, collectible card games, and board games. Eventually, the store became more a games store with a selection of this week's newest comic books and a small offering of graphic novel paperbacks. Completing your transformation means offering space for local tabletop gamers. They love to play their favorite RPG, \"Abruptly Goblins!\" and will happily pay you per chair to secure the space to do it. Unfortunately, planning the game night has fallen to you. If you pick the wrong night, not enough people will come and the game night will be cancelled. You decide it's best that you automate the game night selector to get the most people through the door. First you need to create a list of people who will be attending the game night."
   ]
  },
  {
   "cell_type": "markdown",
   "metadata": {},
   "source": [
    "First let's create an empty list to represent the interested gamers."
   ]
  },
  {
   "cell_type": "code",
   "execution_count": 1,
   "metadata": {},
   "outputs": [],
   "source": [
    "gamers = []"
   ]
  },
  {
   "cell_type": "markdown",
   "metadata": {},
   "source": [
    "Now we want to create a function that will update this list and add a new gamer to the this `gamers` list. Each `gamer` should be a dictionary with the following keys:\n",
    " - `\"name\"`: a string that contains the gamer's full or presumed name. E.g., \"Vicky Very\"\n",
    " - `\"availability\"`: a list of strings containing the names of the days of the week that the gamer is available. E.g., [\"Monday\", \"Thursday\", \"Sunday\"]\n",
    "\n",
    "We'll create a function that takes two parameters: `gamer` and `gamers_list`. The function will check that the argument passed to the `gamer` parameter has both `\"name\"` and a `\"availability\"` as keys and if so add `gamer` to `gamers_list`."
   ]
  },
  {
   "cell_type": "code",
   "execution_count": 2,
   "metadata": {},
   "outputs": [],
   "source": [
    "def add_gamer(gamer, gamers_list):\n",
    "    if 'name' in gamer and 'availability' in gamer:\n",
    "        gamers_list.append(gamer)"
   ]
  },
  {
   "cell_type": "markdown",
   "metadata": {},
   "source": [
    "Now let's add several gamers to the list."
   ]
  },
  {
   "cell_type": "code",
   "execution_count": 3,
   "metadata": {},
   "outputs": [],
   "source": [
    "add_gamer({'name':'Kimberly Warner','availability': [\"Monday\",\"Tuesday\",\"Friday\"]}, gamers)\n",
    "add_gamer({'name':'Thomas Nelson','availability': [\"Tuesday\", \"Thursday\", \"Saturday\"]}, gamers)\n",
    "add_gamer({'name':'Joyce Sellers','availability': [\"Monday\", \"Wednesday\", \"Friday\", \"Saturday\"]}, gamers)\n",
    "add_gamer({'name':'Michelle Reyes','availability': [\"Wednesday\", \"Thursday\", \"Sunday\"]}, gamers)\n",
    "add_gamer({'name':'Stephen Adams','availability': [\"Thursday\", \"Saturday\"]}, gamers)\n",
    "add_gamer({'name': 'Joanne Lynn', 'availability': [\"Monday\", \"Thursday\"]}, gamers)\n",
    "add_gamer({'name':'Latasha Bryan','availability': [\"Monday\", \"Sunday\"]}, gamers)\n",
    "add_gamer({'name':'Crystal Brewer','availability': [\"Thursday\", \"Friday\", \"Saturday\"]}, gamers)\n",
    "add_gamer({'name':'James Barnes Jr.','availability': [\"Tuesday\", \"Wednesday\", \"Thursday\", \"Sunday\"]}, gamers)\n",
    "add_gamer({'name':'Michel Trujillo','availability': [\"Monday\", \"Tuesday\", \"Wednesday\"]}, gamers)"
   ]
  },
  {
   "cell_type": "markdown",
   "metadata": {},
   "source": [
    "## Finding the perfect availability\n",
    "\n",
    "Now that we have a list of all of the people interested in game night, we want to be able to calculate which nights would have the most participation. First we'll create a dictionary which correlates each day of the week with gamer availability."
   ]
  },
  {
   "cell_type": "code",
   "execution_count": 4,
   "metadata": {},
   "outputs": [],
   "source": [
    "count_availability = {\n",
    "        'Sunday':0,\n",
    "        'Monday':0,\n",
    "        'Tuesday':0,\n",
    "        'Wednesday':0,\n",
    "        'Thursday':0,\n",
    "        'Friday':0,\n",
    "        'Saturday':0\n",
    "    }"
   ]
  },
  {
   "cell_type": "markdown",
   "metadata": {},
   "source": [
    "Next we need to count the number of people every night.\n",
    "\n",
    "We'll write a function that takes a list of gamers `gamers_list` and a frequency table `available_frequency`. The function will iterate through each gamer in `gamers_list` and iterate through each day in the gamer's availability. For each day in the gamer's availability, we add one to that date on the frequency table."
   ]
  },
  {
   "cell_type": "code",
   "execution_count": 5,
   "metadata": {},
   "outputs": [],
   "source": [
    "def calculate_availability(gamers_list):\n",
    "    available_frequency = {\n",
    "        'Sunday':0,\n",
    "        'Monday':0,\n",
    "        'Tuesday':0,\n",
    "        'Wednesday':0,\n",
    "        'Thursday':0,\n",
    "        'Friday':0,\n",
    "        'Saturday':0\n",
    "    }\n",
    "    for gamer in gamers_list:\n",
    "        for day in gamer['availability']:\n",
    "            available_frequency[day] += 1\n",
    "    return available_frequency"
   ]
  },
  {
   "cell_type": "markdown",
   "metadata": {},
   "source": [
    "Now let's use these tools to find the best night to run Abruptly Goblins!"
   ]
  },
  {
   "cell_type": "code",
   "execution_count": 6,
   "metadata": {
    "scrolled": true
   },
   "outputs": [
    {
     "data": {
      "text/plain": [
       "{'Sunday': 3,\n",
       " 'Monday': 5,\n",
       " 'Tuesday': 4,\n",
       " 'Wednesday': 4,\n",
       " 'Thursday': 6,\n",
       " 'Friday': 3,\n",
       " 'Saturday': 4}"
      ]
     },
     "execution_count": 6,
     "metadata": {},
     "output_type": "execute_result"
    }
   ],
   "source": [
    "count_availability = calculate_availability(gamers)\n",
    "count_availability"
   ]
  },
  {
   "cell_type": "markdown",
   "metadata": {},
   "source": [
    "Lastly we need a way to pick the day with the most available people to attend so that we can schedule game night on that night.\n",
    "\n",
    "We'll write a function that takes a dictionary `availability_table` and returns the key with the highest number."
   ]
  },
  {
   "cell_type": "code",
   "execution_count": 7,
   "metadata": {},
   "outputs": [],
   "source": [
    "def find_best_night(availability_table):\n",
    "    bestday = ''\n",
    "    bestnumber = 0\n",
    "    for day, number in availability_table.items():\n",
    "        if number>bestnumber:\n",
    "            bestday = day\n",
    "            bestnumber = number\n",
    "    return bestday"
   ]
  },
  {
   "cell_type": "markdown",
   "metadata": {},
   "source": [
    "Now let's find the best day to host game night."
   ]
  },
  {
   "cell_type": "code",
   "execution_count": 8,
   "metadata": {},
   "outputs": [
    {
     "data": {
      "text/plain": [
       "'Thursday'"
      ]
     },
     "execution_count": 8,
     "metadata": {},
     "output_type": "execute_result"
    }
   ],
   "source": [
    "game_night = find_best_night(count_availability)\n",
    "game_night"
   ]
  },
  {
   "cell_type": "markdown",
   "metadata": {},
   "source": [
    "Let's make a list of all of the people who are available that night.\n",
    "\n",
    "We'll create a function that takes `gamers_list` and `day` and returns a list of the gamers who are available on that particular day."
   ]
  },
  {
   "cell_type": "code",
   "execution_count": 9,
   "metadata": {},
   "outputs": [
    {
     "data": {
      "text/plain": [
       "[{'name': 'Thomas Nelson',\n",
       "  'availability': ['Tuesday', 'Thursday', 'Saturday']},\n",
       " {'name': 'Michelle Reyes',\n",
       "  'availability': ['Wednesday', 'Thursday', 'Sunday']},\n",
       " {'name': 'Stephen Adams', 'availability': ['Thursday', 'Saturday']},\n",
       " {'name': 'Joanne Lynn', 'availability': ['Monday', 'Thursday']},\n",
       " {'name': 'Crystal Brewer',\n",
       "  'availability': ['Thursday', 'Friday', 'Saturday']},\n",
       " {'name': 'James Barnes Jr.',\n",
       "  'availability': ['Tuesday', 'Wednesday', 'Thursday', 'Sunday']}]"
      ]
     },
     "execution_count": 9,
     "metadata": {},
     "output_type": "execute_result"
    }
   ],
   "source": [
    "def available_on_night(gamers_list, day):\n",
    "    attendees = []\n",
    "    for gamer in gamers_list:\n",
    "        if day in gamer['availability']:\n",
    "            attendees.append(gamer)\n",
    "    return attendees\n",
    "attending_game_night = available_on_night(gamers, game_night)\n",
    "attending_game_night"
   ]
  },
  {
   "cell_type": "markdown",
   "metadata": {},
   "source": [
    "## Generating an E-mail for the Participants\n",
    "\n",
    "With the best day for 'Abruptly Goblins!' determined with computer precision, we need to let the attendees know that the game night is on a night they can attend. Let's start by creating a form email to send to each of the participants that we'll fill out with data later."
   ]
  },
  {
   "cell_type": "code",
   "execution_count": 10,
   "metadata": {},
   "outputs": [],
   "source": [
    "form_email = \"\"\"\n",
    "Hey {name}!,\n",
    "We noticed you've been dying to play the new hit game '{game}' with other enthusiastic afficionados!  Well get ready, because this {day_of_week}, the game is on! Just show up to Sorcery Society anytime in the evening to play with your fellow adventurers!\n",
    "\"\"\""
   ]
  },
  {
   "cell_type": "markdown",
   "metadata": {},
   "source": [
    "Now we'll create a function that takes in `gamers_who_can_attend`, `day`, and `game`. It will print `form_email` for each gamer in `gamers_who_can_attend` with the appropriate `day` and `game`.\n",
    "Then we'll 'send' the email!"
   ]
  },
  {
   "cell_type": "code",
   "execution_count": 11,
   "metadata": {},
   "outputs": [
    {
     "name": "stdout",
     "output_type": "stream",
     "text": [
      "\n",
      "Hey Thomas Nelson!,\n",
      "We noticed you've been dying to play the new hit game 'Abruptly Goblins!' with other enthusiastic afficionados!  Well get ready, because this Thursday, the game is on! Just show up to Sorcery Society anytime in the evening to play with your fellow adventurers!\n",
      "\n",
      "\n",
      "Hey Michelle Reyes!,\n",
      "We noticed you've been dying to play the new hit game 'Abruptly Goblins!' with other enthusiastic afficionados!  Well get ready, because this Thursday, the game is on! Just show up to Sorcery Society anytime in the evening to play with your fellow adventurers!\n",
      "\n",
      "\n",
      "Hey Stephen Adams!,\n",
      "We noticed you've been dying to play the new hit game 'Abruptly Goblins!' with other enthusiastic afficionados!  Well get ready, because this Thursday, the game is on! Just show up to Sorcery Society anytime in the evening to play with your fellow adventurers!\n",
      "\n",
      "\n",
      "Hey Joanne Lynn!,\n",
      "We noticed you've been dying to play the new hit game 'Abruptly Goblins!' with other enthusiastic afficionados!  Well get ready, because this Thursday, the game is on! Just show up to Sorcery Society anytime in the evening to play with your fellow adventurers!\n",
      "\n",
      "\n",
      "Hey Crystal Brewer!,\n",
      "We noticed you've been dying to play the new hit game 'Abruptly Goblins!' with other enthusiastic afficionados!  Well get ready, because this Thursday, the game is on! Just show up to Sorcery Society anytime in the evening to play with your fellow adventurers!\n",
      "\n",
      "\n",
      "Hey James Barnes Jr.!,\n",
      "We noticed you've been dying to play the new hit game 'Abruptly Goblins!' with other enthusiastic afficionados!  Well get ready, because this Thursday, the game is on! Just show up to Sorcery Society anytime in the evening to play with your fellow adventurers!\n",
      "\n"
     ]
    }
   ],
   "source": [
    "def send_email(gamers_who_can_attend,day,game):\n",
    "    for gamer in gamers_who_can_attend:\n",
    "        print(form_email.format(name=gamer['name'], game=game, day_of_week=day))\n",
    "        \n",
    "send_email(attending_game_night, game_night, 'Abruptly Goblins!')"
   ]
  },
  {
   "cell_type": "markdown",
   "metadata": {},
   "source": [
    "### Afterward\n",
    "\n",
    "Wanting to include the folks who weren't able to attend the decided upon game night, let's use our currently written methods to have a second game night of the week.\n",
    "\n",
    "\n",
    "We'll\n",
    "* Create a list `unable_to_attend_best_night` of everyone in `gamers` that wasn't able to attend game night on `game_night`.\n",
    "* Create `second_night_availability` by calling `calculate_availability` with `unable_to_attend_best_night`\n",
    "* Call `find_best_night` with the now filled-in `second_night_availability`, saving the results in `second_night`.\n"
   ]
  },
  {
   "cell_type": "code",
   "execution_count": 12,
   "metadata": {},
   "outputs": [],
   "source": [
    "unable_to_attend_best_night = [gamer for gamer in gamers if gamer not in attending_game_night]\n",
    "second_night_availability = calculate_availability(unable_to_attend_best_night)\n",
    "second_night = find_best_night(second_night_availability)"
   ]
  },
  {
   "cell_type": "markdown",
   "metadata": {},
   "source": [
    "Let's send out an email to everyone (whether they can attend the first night or not) whose marked themselves as available on our second game night."
   ]
  },
  {
   "cell_type": "code",
   "execution_count": 13,
   "metadata": {},
   "outputs": [
    {
     "name": "stdout",
     "output_type": "stream",
     "text": [
      "\n",
      "Hey Kimberly Warner!,\n",
      "We noticed you've been dying to play the new hit game 'Abruptly Goblins!' with other enthusiastic afficionados!  Well get ready, because this Monday, the game is on! Just show up to Sorcery Society anytime in the evening to play with your fellow adventurers!\n",
      "\n",
      "\n",
      "Hey Joyce Sellers!,\n",
      "We noticed you've been dying to play the new hit game 'Abruptly Goblins!' with other enthusiastic afficionados!  Well get ready, because this Monday, the game is on! Just show up to Sorcery Society anytime in the evening to play with your fellow adventurers!\n",
      "\n",
      "\n",
      "Hey Latasha Bryan!,\n",
      "We noticed you've been dying to play the new hit game 'Abruptly Goblins!' with other enthusiastic afficionados!  Well get ready, because this Monday, the game is on! Just show up to Sorcery Society anytime in the evening to play with your fellow adventurers!\n",
      "\n",
      "\n",
      "Hey Michel Trujillo!,\n",
      "We noticed you've been dying to play the new hit game 'Abruptly Goblins!' with other enthusiastic afficionados!  Well get ready, because this Monday, the game is on! Just show up to Sorcery Society anytime in the evening to play with your fellow adventurers!\n",
      "\n"
     ]
    }
   ],
   "source": [
    "available_second_game_night = available_on_night(unable_to_attend_best_night, second_night)\n",
    "send_email(available_second_game_night, second_night, 'Abruptly Goblins!')"
   ]
  }
 ],
 "metadata": {
  "kernelspec": {
   "display_name": "Python 3",
   "language": "python",
   "name": "python3"
  },
  "language_info": {
   "codemirror_mode": {
    "name": "ipython",
    "version": 3
   },
   "file_extension": ".py",
   "mimetype": "text/x-python",
   "name": "python",
   "nbconvert_exporter": "python",
   "pygments_lexer": "ipython3",
   "version": "3.7.2"
  }
 },
 "nbformat": 4,
 "nbformat_minor": 2
}
